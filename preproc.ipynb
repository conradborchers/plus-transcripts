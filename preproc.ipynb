{
 "cells": [
  {
   "cell_type": "code",
   "execution_count": 1,
   "id": "fa1be646-22ce-4090-8097-f283e3f1cc0a",
   "metadata": {},
   "outputs": [],
   "source": [
    "import pandas as pd\n",
    "import json\n",
    "import glob\n",
    "from tqdm import tqdm"
   ]
  },
  {
   "cell_type": "code",
   "execution_count": 2,
   "id": "ebb351d6-23ea-45da-98fd-d9d6340f6093",
   "metadata": {},
   "outputs": [],
   "source": [
    "!mkdir -p human-transcripts/"
   ]
  },
  {
   "cell_type": "code",
   "execution_count": 3,
   "id": "04a25070-25d8-4802-a733-3447245d3de9",
   "metadata": {},
   "outputs": [],
   "source": [
    "fs = glob.glob('matched_transcripts/*')"
   ]
  },
  {
   "cell_type": "code",
   "execution_count": 4,
   "id": "e635cb62-5120-4c74-893e-4b43e1a57f43",
   "metadata": {},
   "outputs": [],
   "source": [
    "def pencil_transcript_to_df(path):\n",
    "    with open(path, 'r') as file:\n",
    "        data = json.load(file)\n",
    "\n",
    "    file_name = f.split('/')[-1]\n",
    "    \n",
    "    entries = data['transcript']\n",
    "    rows = []\n",
    "    \n",
    "    for entry in entries:\n",
    "        text = entry.get('text', '')\n",
    "        start = entry.get('start')\n",
    "        end = entry.get('end')\n",
    "    \n",
    "        # Try to get speaker from entry\n",
    "        speaker = entry.get('speaker')\n",
    "    \n",
    "        # If not found, try to infer from first word's speaker\n",
    "        if speaker is None:\n",
    "            words = entry.get('words', [])\n",
    "            if words and 'speaker' in words[0]:\n",
    "                speaker = words[0]['speaker']\n",
    "            else:\n",
    "                speaker = \"UNKNOWN\"\n",
    "    \n",
    "        rows.append({\n",
    "            'file_name': file_name,\n",
    "            'speaker': speaker,\n",
    "            'start': start,\n",
    "            'end': end,\n",
    "            'text': text.strip()\n",
    "        })\n",
    "\n",
    "    return pd.DataFrame(rows)\n"
   ]
  },
  {
   "cell_type": "code",
   "execution_count": 5,
   "id": "23f68f21-29a3-4f3b-ac11-c1e5057b6903",
   "metadata": {},
   "outputs": [
    {
     "name": "stderr",
     "output_type": "stream",
     "text": [
      "100%|███████████████████████████████████████████████████████████████████████████████████████████████████████████████████████████████████████████████████████████████████████████████████████████████████████████| 3075/3075 [00:10<00:00, 290.54it/s]\n"
     ]
    }
   ],
   "source": [
    "dfs = []\n",
    "for f in tqdm(fs):\n",
    "    df = pencil_transcript_to_df(f)\n",
    "    dfs.append(df)"
   ]
  },
  {
   "cell_type": "code",
   "execution_count": 6,
   "id": "6a094061-05a3-4e5d-83dd-263e80be7a3e",
   "metadata": {},
   "outputs": [],
   "source": [
    "df_pencil = pd.concat(dfs)"
   ]
  },
  {
   "cell_type": "code",
   "execution_count": 63,
   "id": "197436c0-3c94-45f4-a887-072075028181",
   "metadata": {},
   "outputs": [],
   "source": [
    "df_pencil.to_csv('exports/2025-05-08-pencil-transcripts.csv', index=False)"
   ]
  },
  {
   "cell_type": "code",
   "execution_count": 26,
   "id": "a10d84e7-aa65-4ad8-b5eb-bf5c348b1284",
   "metadata": {},
   "outputs": [],
   "source": [
    "import pandas as pd\n",
    "import re\n",
    "\n",
    "def detect_disengagement(text):\n",
    "    if not isinstance(text, str):\n",
    "        return 0\n",
    "    text = text.lower().strip()\n",
    "\n",
    "    # Expanded list of disengagement patterns (regex-friendly)\n",
    "    disengagement_patterns = [\n",
    "        r\"\\bi (don't|do not|dont|wanna|won't|cant|can't) (want|feel like|care)\\b\",\n",
    "        r\"\\b(this|math|it) (is )?(so )?(boring|stupid|dumb|hard|pointless|annoying)\\b\",\n",
    "        r\"\\bi (hate|dislike) (this|math|school|work)\\b\",\n",
    "        r\"\\b(i'm|im|i am) (tired|bored|confused|lost|annoyed|mad)\\b\",\n",
    "        r\"\\b(who cares|no idea|not sure)\\b\",\n",
    "        r\"\\b(ugh+|grr+|sigh+|yawn+)\\b\",\n",
    "        r\"\\b(not doing this|don’t make me|leave me alone|stop it)\\b\",\n",
    "        r\"\\bwhy (do|should) i (even )?(have to|need to)\\b\",\n",
    "        r\"\\b(so dumb|makes no sense|hate this part)\\b\",\n",
    "        r\"\\b(can we stop|can we be done|is it over)\\b\"\n",
    "    ]\n",
    "\n",
    "    return int(any(re.search(pat, text) for pat in disengagement_patterns))\n",
    "\n",
    "# Apply to your DataFrame\n",
    "df_pencil['disengaged'] = df_pencil['text'].apply(detect_disengagement)"
   ]
  },
  {
   "cell_type": "code",
   "execution_count": 40,
   "id": "c62176c6-f878-46da-8d9d-dade1fd5f597",
   "metadata": {},
   "outputs": [],
   "source": [
    "def whisperx_transcript_to_df(path):\n",
    "    with open(path, 'r') as file:\n",
    "        data = json.load(file)\n",
    "\n",
    "    file_name = path.split('/')[-1]\n",
    "    segments = data['whisperxTranscript']['whisper']['align']['segments']\n",
    "\n",
    "    rows = []\n",
    "    for seg in segments:\n",
    "        rows.append({\n",
    "            'file_name': file_name,\n",
    "            'speaker': seg.get('speaker', 'UNKNOWN'),\n",
    "            'start': seg['start'],\n",
    "            'end': seg['end'],\n",
    "            'text': seg['text'].strip()\n",
    "        })\n",
    "\n",
    "    return pd.DataFrame(rows)"
   ]
  },
  {
   "cell_type": "code",
   "execution_count": 41,
   "id": "0354904a-9a4b-4801-9c1e-bb121d091c3c",
   "metadata": {},
   "outputs": [
    {
     "name": "stderr",
     "output_type": "stream",
     "text": [
      "100%|███████████████████████████████████████████████████████████████████████████████████████████████████████████████████████████████████████████████████████████████████████████████████████████████████████████| 3075/3075 [00:09<00:00, 318.51it/s]\n"
     ]
    }
   ],
   "source": [
    "dfs = []\n",
    "for f in tqdm(fs):\n",
    "    df = whisperx_transcript_to_df(f)\n",
    "    dfs.append(df)"
   ]
  },
  {
   "cell_type": "code",
   "execution_count": 42,
   "id": "b28102ee-3d3c-4433-95bd-56c811ee9d17",
   "metadata": {},
   "outputs": [],
   "source": [
    "df_whisperx = pd.concat(dfs)"
   ]
  },
  {
   "cell_type": "code",
   "execution_count": 43,
   "id": "0ab1e1bd-153d-496b-b5ac-3cd85f9e81b5",
   "metadata": {},
   "outputs": [],
   "source": [
    "df_whisperx.to_csv('exports/2025-05-08-whisperX-transcripts.csv', index=False)"
   ]
  },
  {
   "cell_type": "code",
   "execution_count": 44,
   "id": "98d2d761-71bc-4f40-a26b-c9e9545b785c",
   "metadata": {},
   "outputs": [],
   "source": [
    "import pandas as pd\n",
    "import re\n",
    "\n",
    "def detect_disengagement(text):\n",
    "    if not isinstance(text, str):\n",
    "        return 0\n",
    "    text = text.lower().strip()\n",
    "\n",
    "    # Expanded list of disengagement patterns (regex-friendly)\n",
    "    disengagement_patterns = [\n",
    "        r\"\\bi (don't|do not|dont|wanna|won't|cant|can't) (want|feel like|care)\\b\",\n",
    "        r\"\\b(this|math|it) (is )?(so )?(boring|stupid|dumb|hard|pointless|annoying)\\b\",\n",
    "        r\"\\bi (hate|dislike) (this|math|school|work)\\b\",\n",
    "        r\"\\b(i'm|im|i am) (tired|bored|confused|lost|annoyed|mad)\\b\",\n",
    "        r\"\\b(who cares|no idea|not sure)\\b\",\n",
    "        r\"\\b(ugh+|grr+|sigh+|yawn+)\\b\",\n",
    "        r\"\\b(not doing this|don’t make me|leave me alone|stop it)\\b\",\n",
    "        r\"\\bwhy (do|should) i (even )?(have to|need to)\\b\",\n",
    "        r\"\\b(so dumb|makes no sense|hate this part)\\b\",\n",
    "        r\"\\b(can we stop|can we be done|is it over)\\b\"\n",
    "    ]\n",
    "\n",
    "    return int(any(re.search(pat, text) for pat in disengagement_patterns))\n",
    "\n",
    "# Apply to your DataFrame\n",
    "df_whisperx['disengaged'] = df_whisperx['text'].apply(detect_disengagement)"
   ]
  },
  {
   "cell_type": "code",
   "execution_count": 48,
   "id": "499b3bd1-77b5-495c-b45e-81c8dec73ecb",
   "metadata": {},
   "outputs": [],
   "source": [
    "df_whisperx[df_whisperx['disengaged']==1][['text']].to_csv('whisperX-disengaged-student-moves.csv', index=False)"
   ]
  },
  {
   "cell_type": "code",
   "execution_count": 53,
   "id": "75cc463c-0182-4a34-a2ee-a4432ae81914",
   "metadata": {},
   "outputs": [],
   "source": [
    "def get_first_response_after_disengaged(df):\n",
    "    result = []\n",
    "\n",
    "    # Reset index to ensure iloc works with positions\n",
    "    df = df.reset_index(drop=True)\n",
    "    disengaged_indices = df.index[df['disengaged'] == 1].tolist()\n",
    "\n",
    "    for i in disengaged_indices:\n",
    "        speaker_d = df.iloc[i]['speaker']\n",
    "        disengaged_text = df.iloc[i]['text']\n",
    "        response_text = \"\"\n",
    "\n",
    "        for j in range(i + 1, len(df)):\n",
    "            # Stop if we hit the next disengaged point\n",
    "            if df.iloc[j]['disengaged'] == 1:\n",
    "                break\n",
    "            # Different speaker?\n",
    "            if df.iloc[j]['speaker'] != speaker_d:\n",
    "                response_text = df.iloc[j]['text']\n",
    "                break\n",
    "\n",
    "        result.append({\n",
    "            'disengaged_text': disengaged_text,\n",
    "            'response_text': response_text\n",
    "        })\n",
    "\n",
    "    return pd.DataFrame(result)\n",
    "\n",
    "# Call the function\n",
    "df_response_pairs = get_first_response_after_disengaged(df_whisperx)\n",
    "\n",
    "# Save result\n",
    "df_response_pairs.to_csv('whisperX-disengaged-response-pairs.csv', index=False)\n"
   ]
  },
  {
   "cell_type": "code",
   "execution_count": 55,
   "id": "2ccdf064-1feb-4e48-af41-c8ff5edbec83",
   "metadata": {},
   "outputs": [],
   "source": [
    "def get_immediate_responses_after_disengaged(df):\n",
    "    result = []\n",
    "\n",
    "    # Reset index for safe row access\n",
    "    df = df.reset_index(drop=True)\n",
    "\n",
    "    for i in range(len(df) - 1):  # Stop at len-1 to avoid out-of-bounds\n",
    "        if df.iloc[i]['disengaged'] == 1:\n",
    "            speaker_d = df.iloc[i]['speaker']\n",
    "            disengaged_text = df.iloc[i]['text']\n",
    "            next_speaker = df.iloc[i + 1]['speaker']\n",
    "\n",
    "            if next_speaker != speaker_d:\n",
    "                response_text = df.iloc[i + 1]['text']\n",
    "            else:\n",
    "                response_text = \"\"\n",
    "\n",
    "            result.append({\n",
    "                'disengaged_text': disengaged_text,\n",
    "                'response_text': response_text\n",
    "            })\n",
    "\n",
    "    return pd.DataFrame(result)\n"
   ]
  },
  {
   "cell_type": "code",
   "execution_count": 56,
   "id": "caf4f2cf-ddb1-4763-9a58-562de37de16d",
   "metadata": {},
   "outputs": [],
   "source": [
    "df_immediate_responses = get_immediate_responses_after_disengaged(df_whisperx)\n",
    "df_immediate_responses.to_csv('whisperX-disengagement-immediate-responses.csv', index=False)\n"
   ]
  },
  {
   "cell_type": "code",
   "execution_count": 61,
   "id": "d5771408-191e-4952-a82b-223695aafb54",
   "metadata": {},
   "outputs": [],
   "source": [
    "#df_immediate_responses[df_immediate_responses['response_text']!=''].response_text.values"
   ]
  },
  {
   "cell_type": "code",
   "execution_count": 70,
   "id": "c82a30a5-5d19-49d2-8496-7816b49bc4c0",
   "metadata": {},
   "outputs": [],
   "source": [
    "def find_best_match(row, df_whisperx):\n",
    "    start, end = row['start'], row['end']\n",
    "    file_name = row['file_name']\n",
    "\n",
    "    # Restrict df_whisperx to the same file name\n",
    "    df_same_file = df_whisperx[df_whisperx['file_name'] == file_name]\n",
    "\n",
    "    # Find overlaps within the same file\n",
    "    overlap = df_same_file[\n",
    "        ((df_same_file['start'] <= end) & (df_same_file['end'] >= start))\n",
    "    ].copy()\n",
    "\n",
    "    if not overlap.empty:\n",
    "        # Choose the one with the most overlap\n",
    "        overlap['overlap'] = overlap.apply(\n",
    "            lambda r: min(end, r['end']) - max(start, r['start']), axis=1)\n",
    "        return overlap.sort_values('overlap', ascending=False).iloc[0]\n",
    "    elif not df_same_file.empty:\n",
    "        # Fallback: choose the closest in start time\n",
    "        closest_idx = (df_same_file['start'] - start).abs().idxmin()\n",
    "        return df_same_file.loc[closest_idx]\n",
    "    else:\n",
    "        # No match possible due to missing file_name in whisperx\n",
    "        return pd.Series(dtype='object')\n",
    "\n",
    "def sample_and_fuzzy_match(df_pencil, df_whisperx, n=300):\n",
    "    sampled_pencil = df_pencil.sample(n=n, random_state=42).reset_index(drop=True)\n",
    "\n",
    "    matched_whisperx = sampled_pencil.apply(lambda row: find_best_match(row, df_whisperx), axis=1)\n",
    "\n",
    "    comparison_df = pd.concat(\n",
    "        [sampled_pencil.add_suffix('_pencil').reset_index(drop=True),\n",
    "         matched_whisperx.add_suffix('_whisperx').reset_index(drop=True)],\n",
    "        axis=1\n",
    "    )\n",
    "\n",
    "    comparison_df = comparison_df.drop(columns=['file_name_whisperx'], errors='ignore')\\\n",
    "                                 .rename(columns={'file_name_pencil': 'file_name'}).copy()\n",
    "    return comparison_df"
   ]
  },
  {
   "cell_type": "code",
   "execution_count": 77,
   "id": "8365508b-a2c4-43c2-b69a-1bfa43300148",
   "metadata": {},
   "outputs": [],
   "source": [
    "def sample_and_fuzzy_match_20_files(df_pencil, df_whisperx, n_files=20):\n",
    "    # Step 1: Sample n_files distinct file_names\n",
    "    sampled_files = df_pencil['file_name'].dropna().unique()\n",
    "    sampled_files = pd.Series(sampled_files).sample(n=n_files, random_state=42)\n",
    "\n",
    "    # Step 2: Subset df_pencil to those files\n",
    "    subset_pencil = df_pencil[df_pencil['file_name'].isin(sampled_files)]\n",
    "    sampled_pencil = subset_pencil.reset_index(drop=True)\n",
    "\n",
    "    # Step 3: Match\n",
    "    matched_whisperx = sampled_pencil.apply(lambda row: find_best_match(row, df_whisperx), axis=1)\n",
    "\n",
    "    # Step 4: Combine\n",
    "    comparison_df = pd.concat(\n",
    "        [sampled_pencil.add_suffix('_pencil').reset_index(drop=True),\n",
    "         matched_whisperx.add_suffix('_whisperx').reset_index(drop=True)],\n",
    "        axis=1\n",
    "    )\n",
    "\n",
    "    comparison_df = comparison_df.drop(columns=['file_name_whisperx'], errors='ignore')\\\n",
    "                                 .rename(columns={'file_name_pencil': 'file_name'}).copy()\n",
    "    return comparison_df\n"
   ]
  },
  {
   "cell_type": "code",
   "execution_count": 71,
   "id": "4f7931de-4e66-4321-b141-921243c68f65",
   "metadata": {},
   "outputs": [],
   "source": [
    "comparison_df = sample_and_fuzzy_match(df_pencil, df_whisperx, n=1000)"
   ]
  },
  {
   "cell_type": "code",
   "execution_count": 72,
   "id": "f3fd8400-5b22-42a1-aae5-0d97a4e54bea",
   "metadata": {},
   "outputs": [],
   "source": [
    "comparison_df.to_csv('exports/2025-05-08-matched-snippets-1000-sampled.csv', index=False)"
   ]
  },
  {
   "cell_type": "code",
   "execution_count": 81,
   "id": "bdf54451-9b2c-45db-ad51-598198b2cf3a",
   "metadata": {},
   "outputs": [],
   "source": [
    "comparison_df = sample_and_fuzzy_match_20_files(df_pencil, df_whisperx, n_files=10)"
   ]
  },
  {
   "cell_type": "code",
   "execution_count": 82,
   "id": "f0ad6150-b61a-472f-b82b-b95f01e7ad30",
   "metadata": {},
   "outputs": [],
   "source": [
    "comparison_df.to_csv('exports/2025-05-08-matched-snippets-10-files.csv', index=False)"
   ]
  },
  {
   "cell_type": "code",
   "execution_count": 86,
   "id": "808c38ad-345f-4d6b-ab8f-3228d675f1df",
   "metadata": {},
   "outputs": [
    {
     "data": {
      "text/plain": [
       "file_name\n",
       "March_12_2024_El_Capitan_Period_2_1647_1406814b-1ce9-47ae-972e-191a002c7840_matched_transcripts.json                     415\n",
       "October_22_2024_MACS_Tutoring_1417_9640958f-f383-4cf7-b45a-f74595b59583_matched_transcripts.json                         294\n",
       "October_25_2023_Life_Male_STEAM_Academy_1407_8c8299c3-91f8-4075-ba73-41714333adde_matched_transcripts.json               112\n",
       "February_06_2024_El_Capitan_Period_2_1751_e8b64be2-a991-4fa3-9791-2471d3d73009_matched_transcripts.json                   69\n",
       "December_13_2023_Life_Male_STEAM_Academy_1704_MainRoom_matched_transcripts.json                                           45\n",
       "October_29_2024_MACS_Tutoring_1841_ab689e6b-ff38-497e-91f2-a5a862f84ace_matched_transcripts.json                          34\n",
       "November_14_2023_El_Capitan_Period_2_1745_418df51e-931f-472c-861b-020dfd80b02f_matched_transcripts.json                   16\n",
       "February_08_2024_El_Capitan_Period_2_1748_1a8782b2-117b-4643-a9d1-b6899d24b64e_matched_transcripts.json                   15\n",
       "February_29_2024_El_Capitan_Period_3_1841_145d62b2-201d-4326-9fc4-33d0c179fe0d_matched_transcripts.json                    3\n",
       "November_14_2024_Northside_Charter_-_Wolfson_-_Pd7_1918_786b41e7-56af-49be-8159-c5c265139bf5_matched_transcripts.json      3\n",
       "Name: count, dtype: int64"
      ]
     },
     "execution_count": 86,
     "metadata": {},
     "output_type": "execute_result"
    }
   ],
   "source": [
    "comparison_df.file_name.value_counts()"
   ]
  }
 ],
 "metadata": {
  "kernelspec": {
   "display_name": "Python 3 (ipykernel)",
   "language": "python",
   "name": "python3"
  },
  "language_info": {
   "codemirror_mode": {
    "name": "ipython",
    "version": 3
   },
   "file_extension": ".py",
   "mimetype": "text/x-python",
   "name": "python",
   "nbconvert_exporter": "python",
   "pygments_lexer": "ipython3",
   "version": "3.10.14"
  }
 },
 "nbformat": 4,
 "nbformat_minor": 5
}
